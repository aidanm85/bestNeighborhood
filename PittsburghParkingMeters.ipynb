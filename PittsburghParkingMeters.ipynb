{
 "cells": [
  {
   "cell_type": "code",
   "execution_count": 10,
   "metadata": {},
   "outputs": [
    {
     "name": "stdout",
     "output_type": "stream",
     "text": [
      "                  zone  count\n",
      "33             Oakland    166\n",
      "16         EastLiberty    145\n",
      "36               SSSSW     97\n",
      "14            Downtown     93\n",
      "31           NorthSide     80\n",
      "8   BloomfieldOnstreet     71\n",
      "46              Uptown     61\n",
      "42      StripDisctrict     56\n",
      "41        SquirrelHill     55\n",
      "37           Shadyside     52\n"
     ]
    },
    {
     "data": {
      "text/plain": [
       "<matplotlib.axes._subplots.AxesSubplot at 0x7ff27eef5ac0>"
      ]
     },
     "execution_count": 10,
     "metadata": {},
     "output_type": "execute_result"
    },
    {
     "data": {
      "image/png": "[encoded data removed]",
      "text/plain": [
       "<Figure size 432x288 with 1 Axes>"
      ]
     },
     "metadata": {
      "needs_background": "light"
     },
     "output_type": "display_data"
    }
   ],
   "source": [
    "#import the pandas library so we can use it to interpret our data\n",
    "import pandas as pd                                          \n",
    "\n",
    "#load all the data from the csv file into a dataframe\n",
    "df = pd.read_csv('PittsburghParkingMeters.csv')             \n",
    "\n",
    "#filter so that we only look at active parking meters\n",
    "df = df[df['status'] == 'Active']                           \n",
    "\n",
    "#discard the information we don't need, in this case we only care about the zone\n",
    "df = df[['zone']]\n",
    "\n",
    "#the csv contained more detailed information about the zones, but we only care about the neighborhood\n",
    "#so we can remove the excess numbers\n",
    "df['zone'] = df['zone'].apply(lambda x: '' if pd.isna(x) or not isinstance(x, str) else x)\n",
    "df['zone'] = df['zone'].apply(lambda x: ''.join([i for i in x if i.isalpha()]))\n",
    "\n",
    "# Group data by neighborhood and count number of active parking meters in each neighborhood\n",
    "neighborhood_counts = df.groupby('zone').size().reset_index(name='count')  \n",
    "\n",
    "# Sort neighborhoods by number of active parking meters\n",
    "sorted_neighborhoods = neighborhood_counts.sort_values(by='count', ascending=False)\n",
    "\n",
    "#right now the dataframe still contains a category for meters that didn't have a listed neighborhood\n",
    "#so to remove that we use the drop function\n",
    "sorted_neighborhoods = sorted_neighborhoods.drop(0)\n",
    "\n",
    "# Print top 10 neighborhoods by number of active parking meters\n",
    "print(sorted_neighborhoods.head(10))\n",
    "\n",
    "sorted_neighborhoods.plot(kind = \"bar\")\n",
    "\n",
    "\n"
   ]
  }
 ],
 "metadata": {
  "kernelspec": {
   "display_name": "Python 3",
   "language": "python",
   "name": "python3"
  },
  "language_info": {
   "codemirror_mode": {
    "name": "ipython",
    "version": 3
   },
   "file_extension": ".py",
   "mimetype": "text/x-python",
   "name": "python",
   "nbconvert_exporter": "python",
   "pygments_lexer": "ipython3",
   "version": "3.8.3"
  }
 },
 "nbformat": 4,
 "nbformat_minor": 4
}
