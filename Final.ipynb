{
 "cells": [
  {
   "cell_type": "markdown",
   "metadata": {},
   "source": [
    "# Introduction"
   ]
  },
  {
   "cell_type": "markdown",
   "metadata": {},
   "source": [
    "* Have you ever:\n",
    "    - tried and failed to find a parking spot in Pittsburgh?\n",
    "    - thought \"where's the closest I can park to my destination?\"\n",
    "    - considered purchasing a residential parking permit?\n",
    "    - wondered which of Pittsburgh's neighborhoods has the most available parking?\n",
    "* If you said yes...\n",
    "\n",
    "![beholdURL](https://media.giphy.com/media/NlWRgss4w0pfjW2CYb/giphy.gif \"behold\")\n"
   ]
  },
  {
   "cell_type": "markdown",
   "metadata": {},
   "source": [
    "# Metric Explanation"
   ]
  },
  {
   "cell_type": "markdown",
   "metadata": {},
   "source": [
    "Our metric is **parking availability**\n",
    "\n",
    "We measured it considering:\n",
    "* **parking meter locations**\n",
    "    - https://data.wprdc.org/dataset/pittsburgh-parking-meters-and-payment-points\n",
    "    - This dataset contains information on parking meter locations, which is a good indicator of parking availability\n",
    "* **number of streets containing parking meters**\n",
    "    - https://data.wprdc.org/dataset/metered-streets-pittsburgh-parking-authority/resource/9b68e71a-d117-41ad-81e1-af6965ea40f4\n",
    "    - This dataset contains information on how many streets in a neighborhood contain a parking meter, which is a good indicator of how easy it is to find parking in these areas\n",
    "* **residential permit**\n",
    "    - https://data.wprdc.org/dataset/residential-permit-parking-program-areas/resource/e2b1ca6b-bb2e-4767-bcc9-ce305671d104\n",
    "    - This dataset contains information about residential parking permits issued in different Pittsburgh neighborhoods. Since most of people's time spent parking is at or near their home, residential permits are important to consider when analyzing parking availability"
   ]
  },
  {
   "cell_type": "markdown",
   "metadata": {},
   "source": [
    "# Results Explanations"
   ]
  },
  {
   "cell_type": "markdown",
   "metadata": {},
   "source": [
    "![DrumrollURL](https://media.giphy.com/media/FP56vNcwOVyvu/giphy.gif \"drumroll\")"
   ]
  },
  {
   "cell_type": "markdown",
   "metadata": {},
   "source": [
    "* Across the three different datasets we studied, Oakland was consistently found to be one of the city's most parking friendly neighborhoods. Specifically, **North Oakland** was in the top 5 for both residential permits issued and number of metered streets. Furthermore, Oakland is home to the most parking meters in the city, despite South Oakland being mostly dominated by residential permits. "
   ]
  },
  {
   "cell_type": "markdown",
   "metadata": {},
   "source": [
    "# Conclusions\n",
    "\n",
    "* Aidan\n",
    "    - This project goes to show that it takes more than one metric to decide which Pittsburgh neighborhood is the best. Although I'm satisfied with how we selected North Oakland as the most parkable neighborhood, my personal favorite Pittsburgh neighborhood is Morningside, which failed to appear in the top rankings for any dataset. However, if we were to expand the scope of our project to include a variety of metrics that better represent what someone is looking for in the best neighborhood, we may be able to arrive at a more satisfying conclusion."
   ]
  },
  {
   "cell_type": "markdown",
   "metadata": {},
   "source": [
    "* Sim\n",
    "    - Based on all of our data and information, we believe that North Oakland is the best residential neigborhood to live in based off of parking. North Oakland was consistent in all three datasets in having more parking availability. North Oakland has about 72 streets in which parking is available, both on the left and right side. North Oakland also allows for 81 parking permits which is a very large amount considering that we live in a city. Lastly, Oakland has the most number of active parking meters allowing for more parking spots out of all the other neighborhoods. In conclusion, North Oakland stayed consistent in all three metrics. Personally, our favorite neighborhoods are Squirrel Hill and Morningside, both which were not consistent within all three of our datasets. "
   ]
  },
  {
   "cell_type": "code",
   "execution_count": null,
   "metadata": {},
   "outputs": [],
   "source": []
  }
 ],
 "metadata": {
  "kernelspec": {
   "display_name": "Python 3",
   "language": "python",
   "name": "python3"
  },
  "language_info": {
   "codemirror_mode": {
    "name": "ipython",
    "version": 3
   },
   "file_extension": ".py",
   "mimetype": "text/x-python",
   "name": "python",
   "nbconvert_exporter": "python",
   "pygments_lexer": "ipython3",
   "version": "3.8.3"
  }
 },
 "nbformat": 4,
 "nbformat_minor": 4
}
